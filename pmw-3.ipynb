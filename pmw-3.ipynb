{
 "cells": [
  {
   "cell_type": "markdown",
   "id": "a8bb57c3-0d84-4212-afbf-587e0bdc9eb4",
   "metadata": {},
   "source": [
    "# Gate from Time Evolution\n",
    "\n",
    "This notebook is used to demonstrate how a quantum gate comes from the time evolution of a Hamiltonian."
   ]
  },
  {
   "cell_type": "code",
   "execution_count": 60,
   "id": "28c8d5cb-fd50-4aee-875b-95d02c83339c",
   "metadata": {},
   "outputs": [],
   "source": [
    "import numpy as np\n",
    "import qutip\n",
    "import sympy\n",
    "from sympy import (pi, symbols, Function, eye, cos, Eq, trigsimp, sin, cos, exp, Abs, \n",
    "                    expand, diag, I, simplify, diff, sqrt, zoo, lambdify, Matrix, matrix_multiply_elementwise)\n",
    "from sympy.physics.quantum.tensorproduct import TensorProduct, tensor_product_simp\n",
    "from sympy.physics.quantum.dagger import Dagger\n",
    "from sympy.physics.matrices import msigma\n",
    "import matplotlib.pyplot as plt\n",
    "from IPython.display import Latex\n"
   ]
  },
  {
   "cell_type": "code",
   "execution_count": 61,
   "id": "75b5b3a0-ab1e-4e7c-90fc-9047a28853ee",
   "metadata": {},
   "outputs": [],
   "source": [
    "def display_eq(left, right):\n",
    "    \"\"\"\n",
    "    Display an equation as left = right in Jupyter note book.\n",
    "    \"\"\"\n",
    "    display(Eq(left, right, evaluate=False))\n",
    "\n",
    "def eval_tensorproduct_112(expr):\n",
    "    \"\"\"Evaluate the TensorProduct object that contains the matrix (only for 1.12, already fixed in 1.13)\"\"\"\n",
    "    if hasattr(expr, \"func\") and len(expr.args) > 0:\n",
    "        if isinstance(expr, sympy.matrices.immutable.ImmutableDenseMatrix):\n",
    "            return expr.as_mutable()\n",
    "        return expr.func(*[eval_tensorproduct(x) for x in expr.args])\n",
    "    else:\n",
    "         return expr\n",
    "    return\n"
   ]
  },
  {
   "cell_type": "code",
   "execution_count": 62,
   "id": "a3014d19",
   "metadata": {},
   "outputs": [
    {
     "data": {
      "text/latex": [
       "$\\displaystyle \\left[\\begin{matrix}- e^{- i \\left(\\frac{\\omega}{2} - \\frac{\\theta}{2}\\right)} \\cos{\\left(\\frac{\\omega}{2} - \\phi + \\frac{\\theta}{2} \\right)} & - e^{i \\left(\\frac{\\omega}{2} + \\frac{\\theta}{2}\\right)} \\sin{\\left(\\frac{\\omega}{2} - \\phi + \\frac{\\theta}{2} \\right)}\\\\e^{i \\left(- \\frac{\\omega}{2} - \\frac{\\theta}{2}\\right)} \\sin{\\left(\\frac{\\omega}{2} - \\phi + \\frac{\\theta}{2} \\right)} & - e^{i \\left(\\frac{\\omega}{2} - \\frac{\\theta}{2}\\right)} \\cos{\\left(\\frac{\\omega}{2} - \\phi + \\frac{\\theta}{2} \\right)}\\end{matrix}\\right]$"
      ],
      "text/plain": [
       "Matrix([\n",
       "[-exp(-I*(omega/2 - theta/2))*cos(omega/2 - phi + theta/2), -exp(I*(omega/2 + theta/2))*sin(omega/2 - phi + theta/2)],\n",
       "[ exp(I*(-omega/2 - theta/2))*sin(omega/2 - phi + theta/2), -exp(I*(omega/2 - theta/2))*cos(omega/2 - phi + theta/2)]])"
      ]
     },
     "metadata": {},
     "output_type": "display_data"
    }
   ],
   "source": [
    "import sympy as sp\n",
    "\n",
    "# Define symbols\n",
    "theta, omega, phi = sp.symbols('theta omega phi')\n",
    "\n",
    "# Define rotation matrices\n",
    "def x_rotation(theta):\n",
    "    \"\"\"Returns the Z rotation matrix for angle theta.\"\"\"\n",
    "    return sp.Matrix([[sp.cos(theta / 2), -sp.I * sp.sin(theta / 2)],\n",
    "                       [-sp.I * sp.sin(theta / 2), sp.cos(theta / 2)]])\n",
    "\n",
    "def z_rotation(phi):\n",
    "    \"\"\"Returns the X rotation matrix for angle phi.\"\"\"\n",
    "    return sp.Matrix([[sp.cos(phi / 2) - sp.I * sp.sin(phi / 2), 0],\n",
    "                       [0, sp.cos(phi / 2) + sp.I * sp.sin(phi / 2)]])\n",
    "\n",
    "# Calculate the matrices symbolically\n",
    "Z_minus_theta = z_rotation(-theta)\n",
    "X_pi_over_2 = x_rotation(sp.pi / 2)\n",
    "Z_theta_plus_omega_minus_2phi = z_rotation(theta + omega - 2 * phi)\n",
    "X_minus_pi_over_2 = x_rotation(-sp.pi / 2)\n",
    "Z_omega = z_rotation(omega)\n",
    "\n",
    "# Perform the calculation step by step\n",
    "result = Z_minus_theta * X_pi_over_2\n",
    "result = result * Z_theta_plus_omega_minus_2phi\n",
    "result = result * X_minus_pi_over_2\n",
    "result = -result * Z_omega\n",
    "\n",
    "# Display the result\n",
    "display(sp.simplify(result.expand()))"
   ]
  }
 ],
 "metadata": {
  "kernelspec": {
   "display_name": "Python 3",
   "language": "python",
   "name": "python3"
  },
  "language_info": {
   "codemirror_mode": {
    "name": "ipython",
    "version": 3
   },
   "file_extension": ".py",
   "mimetype": "text/x-python",
   "name": "python",
   "nbconvert_exporter": "python",
   "pygments_lexer": "ipython3",
   "version": "3.12.3"
  }
 },
 "nbformat": 4,
 "nbformat_minor": 5
}
