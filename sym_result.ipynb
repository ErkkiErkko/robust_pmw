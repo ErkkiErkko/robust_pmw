{
 "cells": [
  {
   "cell_type": "markdown",
   "id": "a8bb57c3-0d84-4212-afbf-587e0bdc9eb4",
   "metadata": {},
   "source": [
    "# Gate from Time Evolution\n",
    "\n",
    "This notebook is used to demonstrate how a quantum gate comes from the time evolution of a Hamiltonian."
   ]
  },
  {
   "cell_type": "code",
   "execution_count": 1,
   "id": "28c8d5cb-fd50-4aee-875b-95d02c83339c",
   "metadata": {},
   "outputs": [],
   "source": [
    "import numpy as np\n",
    "import qutip\n",
    "import sympy\n",
    "from sympy import (pi, symbols, Function, eye, cos, Eq, trigsimp, sin, cos, exp, Abs, \n",
    "                    expand, diag, I, simplify, diff, sqrt, zoo, lambdify, Matrix, matrix_multiply_elementwise)\n",
    "from sympy.physics.quantum.tensorproduct import TensorProduct, tensor_product_simp\n",
    "from sympy.physics.quantum.dagger import Dagger\n",
    "from sympy.physics.matrices import msigma\n",
    "import matplotlib.pyplot as plt\n",
    "from IPython.display import Latex\n"
   ]
  },
  {
   "cell_type": "code",
   "execution_count": 2,
   "id": "75b5b3a0-ab1e-4e7c-90fc-9047a28853ee",
   "metadata": {},
   "outputs": [],
   "source": [
    "def display_eq(left, right):\n",
    "    \"\"\"\n",
    "    Display an equation as left = right in Jupyter note book.\n",
    "    \"\"\"\n",
    "    display(Eq(left, right, evaluate=False))\n",
    "\n",
    "def eval_tensorproduct_112(expr):\n",
    "    \"\"\"Evaluate the TensorProduct object that contains the matrix (only for 1.12, already fixed in 1.13)\"\"\"\n",
    "    if hasattr(expr, \"func\") and len(expr.args) > 0:\n",
    "        if isinstance(expr, sympy.matrices.immutable.ImmutableDenseMatrix):\n",
    "            return expr.as_mutable()\n",
    "        return expr.func(*[eval_tensorproduct(x) for x in expr.args])\n",
    "    else:\n",
    "         return expr\n",
    "    return\n"
   ]
  },
  {
   "cell_type": "code",
   "execution_count": 3,
   "id": "a3014d19",
   "metadata": {},
   "outputs": [
    {
     "data": {
      "text/latex": [
       "$\\displaystyle \\left[\\begin{matrix}- e^{i \\theta_{1}} e^{- i \\theta_{4}} \\sin^{2}{\\left(\\frac{\\beta}{2} \\right)} \\cos^{2}{\\left(\\frac{\\beta}{2} \\right)} - e^{i \\theta_{1}} e^{- i \\theta_{3}} \\sin^{2}{\\left(\\frac{\\beta}{2} \\right)} \\cos^{2}{\\left(\\frac{\\beta}{2} \\right)} + e^{i \\theta_{1}} e^{- i \\theta_{2}} e^{i \\theta_{3}} e^{- i \\theta_{4}} \\sin^{4}{\\left(\\frac{\\beta}{2} \\right)} - e^{i \\theta_{1}} e^{- i \\theta_{2}} \\sin^{2}{\\left(\\frac{\\beta}{2} \\right)} \\cos^{2}{\\left(\\frac{\\beta}{2} \\right)} - e^{i \\theta_{2}} e^{- i \\theta_{4}} \\sin^{2}{\\left(\\frac{\\beta}{2} \\right)} \\cos^{2}{\\left(\\frac{\\beta}{2} \\right)} - e^{i \\theta_{2}} e^{- i \\theta_{3}} \\sin^{2}{\\left(\\frac{\\beta}{2} \\right)} \\cos^{2}{\\left(\\frac{\\beta}{2} \\right)} - e^{i \\theta_{3}} e^{- i \\theta_{4}} \\sin^{2}{\\left(\\frac{\\beta}{2} \\right)} \\cos^{2}{\\left(\\frac{\\beta}{2} \\right)} + \\cos^{4}{\\left(\\frac{\\beta}{2} \\right)} & - i e^{i \\theta_{1}} \\sin{\\left(\\frac{\\beta}{2} \\right)} \\cos^{3}{\\left(\\frac{\\beta}{2} \\right)} + i e^{i \\theta_{1}} e^{- i \\theta_{3}} e^{i \\theta_{4}} \\sin^{3}{\\left(\\frac{\\beta}{2} \\right)} \\cos{\\left(\\frac{\\beta}{2} \\right)} + i e^{i \\theta_{1}} e^{- i \\theta_{2}} e^{i \\theta_{3}} \\sin^{3}{\\left(\\frac{\\beta}{2} \\right)} \\cos{\\left(\\frac{\\beta}{2} \\right)} + i e^{i \\theta_{1}} e^{- i \\theta_{2}} e^{i \\theta_{4}} \\sin^{3}{\\left(\\frac{\\beta}{2} \\right)} \\cos{\\left(\\frac{\\beta}{2} \\right)} - i e^{i \\theta_{2}} \\sin{\\left(\\frac{\\beta}{2} \\right)} \\cos^{3}{\\left(\\frac{\\beta}{2} \\right)} + i e^{i \\theta_{2}} e^{- i \\theta_{3}} e^{i \\theta_{4}} \\sin^{3}{\\left(\\frac{\\beta}{2} \\right)} \\cos{\\left(\\frac{\\beta}{2} \\right)} - i e^{i \\theta_{3}} \\sin{\\left(\\frac{\\beta}{2} \\right)} \\cos^{3}{\\left(\\frac{\\beta}{2} \\right)} - i e^{i \\theta_{4}} \\sin{\\left(\\frac{\\beta}{2} \\right)} \\cos^{3}{\\left(\\frac{\\beta}{2} \\right)}\\\\- i e^{- i \\theta_{4}} \\sin{\\left(\\frac{\\beta}{2} \\right)} \\cos^{3}{\\left(\\frac{\\beta}{2} \\right)} - i e^{- i \\theta_{3}} \\sin{\\left(\\frac{\\beta}{2} \\right)} \\cos^{3}{\\left(\\frac{\\beta}{2} \\right)} + i e^{- i \\theta_{2}} e^{i \\theta_{3}} e^{- i \\theta_{4}} \\sin^{3}{\\left(\\frac{\\beta}{2} \\right)} \\cos{\\left(\\frac{\\beta}{2} \\right)} - i e^{- i \\theta_{2}} \\sin{\\left(\\frac{\\beta}{2} \\right)} \\cos^{3}{\\left(\\frac{\\beta}{2} \\right)} + i e^{- i \\theta_{1}} e^{i \\theta_{2}} e^{- i \\theta_{4}} \\sin^{3}{\\left(\\frac{\\beta}{2} \\right)} \\cos{\\left(\\frac{\\beta}{2} \\right)} + i e^{- i \\theta_{1}} e^{i \\theta_{2}} e^{- i \\theta_{3}} \\sin^{3}{\\left(\\frac{\\beta}{2} \\right)} \\cos{\\left(\\frac{\\beta}{2} \\right)} + i e^{- i \\theta_{1}} e^{i \\theta_{3}} e^{- i \\theta_{4}} \\sin^{3}{\\left(\\frac{\\beta}{2} \\right)} \\cos{\\left(\\frac{\\beta}{2} \\right)} - i e^{- i \\theta_{1}} \\sin{\\left(\\frac{\\beta}{2} \\right)} \\cos^{3}{\\left(\\frac{\\beta}{2} \\right)} & \\cos^{4}{\\left(\\frac{\\beta}{2} \\right)} - e^{- i \\theta_{3}} e^{i \\theta_{4}} \\sin^{2}{\\left(\\frac{\\beta}{2} \\right)} \\cos^{2}{\\left(\\frac{\\beta}{2} \\right)} - e^{- i \\theta_{2}} e^{i \\theta_{3}} \\sin^{2}{\\left(\\frac{\\beta}{2} \\right)} \\cos^{2}{\\left(\\frac{\\beta}{2} \\right)} - e^{- i \\theta_{2}} e^{i \\theta_{4}} \\sin^{2}{\\left(\\frac{\\beta}{2} \\right)} \\cos^{2}{\\left(\\frac{\\beta}{2} \\right)} - e^{- i \\theta_{1}} e^{i \\theta_{2}} \\sin^{2}{\\left(\\frac{\\beta}{2} \\right)} \\cos^{2}{\\left(\\frac{\\beta}{2} \\right)} + e^{- i \\theta_{1}} e^{i \\theta_{2}} e^{- i \\theta_{3}} e^{i \\theta_{4}} \\sin^{4}{\\left(\\frac{\\beta}{2} \\right)} - e^{- i \\theta_{1}} e^{i \\theta_{3}} \\sin^{2}{\\left(\\frac{\\beta}{2} \\right)} \\cos^{2}{\\left(\\frac{\\beta}{2} \\right)} - e^{- i \\theta_{1}} e^{i \\theta_{4}} \\sin^{2}{\\left(\\frac{\\beta}{2} \\right)} \\cos^{2}{\\left(\\frac{\\beta}{2} \\right)}\\end{matrix}\\right]$"
      ],
      "text/plain": [
       "Matrix([\n",
       "[                          -exp(I*theta_1)*exp(-I*theta_4)*sin(beta/2)**2*cos(beta/2)**2 - exp(I*theta_1)*exp(-I*theta_3)*sin(beta/2)**2*cos(beta/2)**2 + exp(I*theta_1)*exp(-I*theta_2)*exp(I*theta_3)*exp(-I*theta_4)*sin(beta/2)**4 - exp(I*theta_1)*exp(-I*theta_2)*sin(beta/2)**2*cos(beta/2)**2 - exp(I*theta_2)*exp(-I*theta_4)*sin(beta/2)**2*cos(beta/2)**2 - exp(I*theta_2)*exp(-I*theta_3)*sin(beta/2)**2*cos(beta/2)**2 - exp(I*theta_3)*exp(-I*theta_4)*sin(beta/2)**2*cos(beta/2)**2 + cos(beta/2)**4, -I*exp(I*theta_1)*sin(beta/2)*cos(beta/2)**3 + I*exp(I*theta_1)*exp(-I*theta_3)*exp(I*theta_4)*sin(beta/2)**3*cos(beta/2) + I*exp(I*theta_1)*exp(-I*theta_2)*exp(I*theta_3)*sin(beta/2)**3*cos(beta/2) + I*exp(I*theta_1)*exp(-I*theta_2)*exp(I*theta_4)*sin(beta/2)**3*cos(beta/2) - I*exp(I*theta_2)*sin(beta/2)*cos(beta/2)**3 + I*exp(I*theta_2)*exp(-I*theta_3)*exp(I*theta_4)*sin(beta/2)**3*cos(beta/2) - I*exp(I*theta_3)*sin(beta/2)*cos(beta/2)**3 - I*exp(I*theta_4)*sin(beta/2)*cos(beta/2)**3],\n",
       "[-I*exp(-I*theta_4)*sin(beta/2)*cos(beta/2)**3 - I*exp(-I*theta_3)*sin(beta/2)*cos(beta/2)**3 + I*exp(-I*theta_2)*exp(I*theta_3)*exp(-I*theta_4)*sin(beta/2)**3*cos(beta/2) - I*exp(-I*theta_2)*sin(beta/2)*cos(beta/2)**3 + I*exp(-I*theta_1)*exp(I*theta_2)*exp(-I*theta_4)*sin(beta/2)**3*cos(beta/2) + I*exp(-I*theta_1)*exp(I*theta_2)*exp(-I*theta_3)*sin(beta/2)**3*cos(beta/2) + I*exp(-I*theta_1)*exp(I*theta_3)*exp(-I*theta_4)*sin(beta/2)**3*cos(beta/2) - I*exp(-I*theta_1)*sin(beta/2)*cos(beta/2)**3,                    cos(beta/2)**4 - exp(-I*theta_3)*exp(I*theta_4)*sin(beta/2)**2*cos(beta/2)**2 - exp(-I*theta_2)*exp(I*theta_3)*sin(beta/2)**2*cos(beta/2)**2 - exp(-I*theta_2)*exp(I*theta_4)*sin(beta/2)**2*cos(beta/2)**2 - exp(-I*theta_1)*exp(I*theta_2)*sin(beta/2)**2*cos(beta/2)**2 + exp(-I*theta_1)*exp(I*theta_2)*exp(-I*theta_3)*exp(I*theta_4)*sin(beta/2)**4 - exp(-I*theta_1)*exp(I*theta_3)*sin(beta/2)**2*cos(beta/2)**2 - exp(-I*theta_1)*exp(I*theta_4)*sin(beta/2)**2*cos(beta/2)**2]])"
      ]
     },
     "metadata": {},
     "output_type": "display_data"
    },
    {
     "data": {
      "text/latex": [
       "$\\displaystyle \\left[\\begin{matrix}\\cos{\\left(\\frac{\\beta}{2} \\right)} & - i e^{i \\theta_{1}} \\sin{\\left(\\frac{\\beta}{2} \\right)}\\\\- i e^{- i \\theta_{1}} \\sin{\\left(\\frac{\\beta}{2} \\right)} & \\cos{\\left(\\frac{\\beta}{2} \\right)}\\end{matrix}\\right]$"
      ],
      "text/plain": [
       "Matrix([\n",
       "[                   cos(beta/2), -I*exp(I*theta_1)*sin(beta/2)],\n",
       "[-I*exp(-I*theta_1)*sin(beta/2),                   cos(beta/2)]])"
      ]
     },
     "metadata": {},
     "output_type": "display_data"
    },
    {
     "data": {
      "text/latex": [
       "$\\displaystyle - e^{i \\theta_{1}} e^{- i \\theta_{4}} \\sin^{2}{\\left(\\frac{\\beta}{2} \\right)} \\cos^{6}{\\left(\\frac{\\beta}{2} \\right)} + e^{i \\theta_{1}} e^{- i \\theta_{3}} \\sin^{4}{\\left(\\frac{\\beta}{2} \\right)} \\cos^{4}{\\left(\\frac{\\beta}{2} \\right)} - e^{i \\theta_{1}} e^{- i \\theta_{3}} \\sin^{2}{\\left(\\frac{\\beta}{2} \\right)} \\cos^{6}{\\left(\\frac{\\beta}{2} \\right)} + e^{i \\theta_{1}} e^{- 2 i \\theta_{3}} e^{i \\theta_{4}} \\sin^{4}{\\left(\\frac{\\beta}{2} \\right)} \\cos^{4}{\\left(\\frac{\\beta}{2} \\right)} + 2 e^{i \\theta_{1}} e^{- i \\theta_{2}} e^{i \\theta_{3}} e^{- i \\theta_{4}} \\sin^{4}{\\left(\\frac{\\beta}{2} \\right)} \\cos^{4}{\\left(\\frac{\\beta}{2} \\right)} - e^{i \\theta_{1}} e^{- i \\theta_{2}} \\sin^{6}{\\left(\\frac{\\beta}{2} \\right)} \\cos^{2}{\\left(\\frac{\\beta}{2} \\right)} + 2 e^{i \\theta_{1}} e^{- i \\theta_{2}} \\sin^{4}{\\left(\\frac{\\beta}{2} \\right)} \\cos^{4}{\\left(\\frac{\\beta}{2} \\right)} - e^{i \\theta_{1}} e^{- i \\theta_{2}} \\sin^{2}{\\left(\\frac{\\beta}{2} \\right)} \\cos^{6}{\\left(\\frac{\\beta}{2} \\right)} + 2 e^{i \\theta_{1}} e^{- i \\theta_{2}} e^{- i \\theta_{3}} e^{i \\theta_{4}} \\sin^{4}{\\left(\\frac{\\beta}{2} \\right)} \\cos^{4}{\\left(\\frac{\\beta}{2} \\right)} - e^{i \\theta_{1}} e^{- 2 i \\theta_{2}} e^{2 i \\theta_{3}} e^{- i \\theta_{4}} \\sin^{6}{\\left(\\frac{\\beta}{2} \\right)} \\cos^{2}{\\left(\\frac{\\beta}{2} \\right)} - e^{i \\theta_{1}} e^{- 2 i \\theta_{2}} e^{i \\theta_{3}} \\sin^{6}{\\left(\\frac{\\beta}{2} \\right)} \\cos^{2}{\\left(\\frac{\\beta}{2} \\right)} + e^{i \\theta_{1}} e^{- 2 i \\theta_{2}} e^{i \\theta_{3}} \\sin^{4}{\\left(\\frac{\\beta}{2} \\right)} \\cos^{4}{\\left(\\frac{\\beta}{2} \\right)} + e^{i \\theta_{1}} e^{- 2 i \\theta_{2}} e^{i \\theta_{4}} \\sin^{4}{\\left(\\frac{\\beta}{2} \\right)} \\cos^{4}{\\left(\\frac{\\beta}{2} \\right)} + e^{i \\theta_{2}} e^{- i \\theta_{4}} \\sin^{4}{\\left(\\frac{\\beta}{2} \\right)} \\cos^{4}{\\left(\\frac{\\beta}{2} \\right)} - e^{i \\theta_{2}} e^{- i \\theta_{4}} \\sin^{2}{\\left(\\frac{\\beta}{2} \\right)} \\cos^{6}{\\left(\\frac{\\beta}{2} \\right)} - e^{i \\theta_{2}} e^{- i \\theta_{3}} \\sin^{6}{\\left(\\frac{\\beta}{2} \\right)} \\cos^{2}{\\left(\\frac{\\beta}{2} \\right)} + 2 e^{i \\theta_{2}} e^{- i \\theta_{3}} \\sin^{4}{\\left(\\frac{\\beta}{2} \\right)} \\cos^{4}{\\left(\\frac{\\beta}{2} \\right)} - e^{i \\theta_{2}} e^{- i \\theta_{3}} \\sin^{2}{\\left(\\frac{\\beta}{2} \\right)} \\cos^{6}{\\left(\\frac{\\beta}{2} \\right)} - e^{i \\theta_{2}} e^{- 2 i \\theta_{3}} e^{i \\theta_{4}} \\sin^{6}{\\left(\\frac{\\beta}{2} \\right)} \\cos^{2}{\\left(\\frac{\\beta}{2} \\right)} + e^{i \\theta_{2}} e^{- 2 i \\theta_{3}} e^{i \\theta_{4}} \\sin^{4}{\\left(\\frac{\\beta}{2} \\right)} \\cos^{4}{\\left(\\frac{\\beta}{2} \\right)} - e^{i \\theta_{3}} e^{- i \\theta_{4}} \\sin^{6}{\\left(\\frac{\\beta}{2} \\right)} \\cos^{2}{\\left(\\frac{\\beta}{2} \\right)} + 2 e^{i \\theta_{3}} e^{- i \\theta_{4}} \\sin^{4}{\\left(\\frac{\\beta}{2} \\right)} \\cos^{4}{\\left(\\frac{\\beta}{2} \\right)} - e^{i \\theta_{3}} e^{- i \\theta_{4}} \\sin^{2}{\\left(\\frac{\\beta}{2} \\right)} \\cos^{6}{\\left(\\frac{\\beta}{2} \\right)} + \\sin^{8}{\\left(\\frac{\\beta}{2} \\right)} + 6 \\sin^{4}{\\left(\\frac{\\beta}{2} \\right)} \\cos^{4}{\\left(\\frac{\\beta}{2} \\right)} + \\cos^{8}{\\left(\\frac{\\beta}{2} \\right)} - e^{- i \\theta_{3}} e^{i \\theta_{4}} \\sin^{6}{\\left(\\frac{\\beta}{2} \\right)} \\cos^{2}{\\left(\\frac{\\beta}{2} \\right)} + 2 e^{- i \\theta_{3}} e^{i \\theta_{4}} \\sin^{4}{\\left(\\frac{\\beta}{2} \\right)} \\cos^{4}{\\left(\\frac{\\beta}{2} \\right)} - e^{- i \\theta_{3}} e^{i \\theta_{4}} \\sin^{2}{\\left(\\frac{\\beta}{2} \\right)} \\cos^{6}{\\left(\\frac{\\beta}{2} \\right)} - e^{- i \\theta_{2}} e^{2 i \\theta_{3}} e^{- i \\theta_{4}} \\sin^{6}{\\left(\\frac{\\beta}{2} \\right)} \\cos^{2}{\\left(\\frac{\\beta}{2} \\right)} + e^{- i \\theta_{2}} e^{2 i \\theta_{3}} e^{- i \\theta_{4}} \\sin^{4}{\\left(\\frac{\\beta}{2} \\right)} \\cos^{4}{\\left(\\frac{\\beta}{2} \\right)} - e^{- i \\theta_{2}} e^{i \\theta_{3}} \\sin^{6}{\\left(\\frac{\\beta}{2} \\right)} \\cos^{2}{\\left(\\frac{\\beta}{2} \\right)} + 2 e^{- i \\theta_{2}} e^{i \\theta_{3}} \\sin^{4}{\\left(\\frac{\\beta}{2} \\right)} \\cos^{4}{\\left(\\frac{\\beta}{2} \\right)} - e^{- i \\theta_{2}} e^{i \\theta_{3}} \\sin^{2}{\\left(\\frac{\\beta}{2} \\right)} \\cos^{6}{\\left(\\frac{\\beta}{2} \\right)} + e^{- i \\theta_{2}} e^{i \\theta_{4}} \\sin^{4}{\\left(\\frac{\\beta}{2} \\right)} \\cos^{4}{\\left(\\frac{\\beta}{2} \\right)} - e^{- i \\theta_{2}} e^{i \\theta_{4}} \\sin^{2}{\\left(\\frac{\\beta}{2} \\right)} \\cos^{6}{\\left(\\frac{\\beta}{2} \\right)} + e^{- i \\theta_{1}} e^{2 i \\theta_{2}} e^{- i \\theta_{4}} \\sin^{4}{\\left(\\frac{\\beta}{2} \\right)} \\cos^{4}{\\left(\\frac{\\beta}{2} \\right)} - e^{- i \\theta_{1}} e^{2 i \\theta_{2}} e^{- i \\theta_{3}} \\sin^{6}{\\left(\\frac{\\beta}{2} \\right)} \\cos^{2}{\\left(\\frac{\\beta}{2} \\right)} + e^{- i \\theta_{1}} e^{2 i \\theta_{2}} e^{- i \\theta_{3}} \\sin^{4}{\\left(\\frac{\\beta}{2} \\right)} \\cos^{4}{\\left(\\frac{\\beta}{2} \\right)} - e^{- i \\theta_{1}} e^{2 i \\theta_{2}} e^{- 2 i \\theta_{3}} e^{i \\theta_{4}} \\sin^{6}{\\left(\\frac{\\beta}{2} \\right)} \\cos^{2}{\\left(\\frac{\\beta}{2} \\right)} + 2 e^{- i \\theta_{1}} e^{i \\theta_{2}} e^{i \\theta_{3}} e^{- i \\theta_{4}} \\sin^{4}{\\left(\\frac{\\beta}{2} \\right)} \\cos^{4}{\\left(\\frac{\\beta}{2} \\right)} - e^{- i \\theta_{1}} e^{i \\theta_{2}} \\sin^{6}{\\left(\\frac{\\beta}{2} \\right)} \\cos^{2}{\\left(\\frac{\\beta}{2} \\right)} + 2 e^{- i \\theta_{1}} e^{i \\theta_{2}} \\sin^{4}{\\left(\\frac{\\beta}{2} \\right)} \\cos^{4}{\\left(\\frac{\\beta}{2} \\right)} - e^{- i \\theta_{1}} e^{i \\theta_{2}} \\sin^{2}{\\left(\\frac{\\beta}{2} \\right)} \\cos^{6}{\\left(\\frac{\\beta}{2} \\right)} + 2 e^{- i \\theta_{1}} e^{i \\theta_{2}} e^{- i \\theta_{3}} e^{i \\theta_{4}} \\sin^{4}{\\left(\\frac{\\beta}{2} \\right)} \\cos^{4}{\\left(\\frac{\\beta}{2} \\right)} + e^{- i \\theta_{1}} e^{2 i \\theta_{3}} e^{- i \\theta_{4}} \\sin^{4}{\\left(\\frac{\\beta}{2} \\right)} \\cos^{4}{\\left(\\frac{\\beta}{2} \\right)} + e^{- i \\theta_{1}} e^{i \\theta_{3}} \\sin^{4}{\\left(\\frac{\\beta}{2} \\right)} \\cos^{4}{\\left(\\frac{\\beta}{2} \\right)} - e^{- i \\theta_{1}} e^{i \\theta_{3}} \\sin^{2}{\\left(\\frac{\\beta}{2} \\right)} \\cos^{6}{\\left(\\frac{\\beta}{2} \\right)} - e^{- i \\theta_{1}} e^{i \\theta_{4}} \\sin^{2}{\\left(\\frac{\\beta}{2} \\right)} \\cos^{6}{\\left(\\frac{\\beta}{2} \\right)}$"
      ],
      "text/plain": [
       "-exp(I*theta_1)*exp(-I*theta_4)*sin(beta/2)**2*cos(beta/2)**6 + exp(I*theta_1)*exp(-I*theta_3)*sin(beta/2)**4*cos(beta/2)**4 - exp(I*theta_1)*exp(-I*theta_3)*sin(beta/2)**2*cos(beta/2)**6 + exp(I*theta_1)*exp(-2*I*theta_3)*exp(I*theta_4)*sin(beta/2)**4*cos(beta/2)**4 + 2*exp(I*theta_1)*exp(-I*theta_2)*exp(I*theta_3)*exp(-I*theta_4)*sin(beta/2)**4*cos(beta/2)**4 - exp(I*theta_1)*exp(-I*theta_2)*sin(beta/2)**6*cos(beta/2)**2 + 2*exp(I*theta_1)*exp(-I*theta_2)*sin(beta/2)**4*cos(beta/2)**4 - exp(I*theta_1)*exp(-I*theta_2)*sin(beta/2)**2*cos(beta/2)**6 + 2*exp(I*theta_1)*exp(-I*theta_2)*exp(-I*theta_3)*exp(I*theta_4)*sin(beta/2)**4*cos(beta/2)**4 - exp(I*theta_1)*exp(-2*I*theta_2)*exp(2*I*theta_3)*exp(-I*theta_4)*sin(beta/2)**6*cos(beta/2)**2 - exp(I*theta_1)*exp(-2*I*theta_2)*exp(I*theta_3)*sin(beta/2)**6*cos(beta/2)**2 + exp(I*theta_1)*exp(-2*I*theta_2)*exp(I*theta_3)*sin(beta/2)**4*cos(beta/2)**4 + exp(I*theta_1)*exp(-2*I*theta_2)*exp(I*theta_4)*sin(beta/2)**4*cos(beta/2)**4 + exp(I*theta_2)*exp(-I*theta_4)*sin(beta/2)**4*cos(beta/2)**4 - exp(I*theta_2)*exp(-I*theta_4)*sin(beta/2)**2*cos(beta/2)**6 - exp(I*theta_2)*exp(-I*theta_3)*sin(beta/2)**6*cos(beta/2)**2 + 2*exp(I*theta_2)*exp(-I*theta_3)*sin(beta/2)**4*cos(beta/2)**4 - exp(I*theta_2)*exp(-I*theta_3)*sin(beta/2)**2*cos(beta/2)**6 - exp(I*theta_2)*exp(-2*I*theta_3)*exp(I*theta_4)*sin(beta/2)**6*cos(beta/2)**2 + exp(I*theta_2)*exp(-2*I*theta_3)*exp(I*theta_4)*sin(beta/2)**4*cos(beta/2)**4 - exp(I*theta_3)*exp(-I*theta_4)*sin(beta/2)**6*cos(beta/2)**2 + 2*exp(I*theta_3)*exp(-I*theta_4)*sin(beta/2)**4*cos(beta/2)**4 - exp(I*theta_3)*exp(-I*theta_4)*sin(beta/2)**2*cos(beta/2)**6 + sin(beta/2)**8 + 6*sin(beta/2)**4*cos(beta/2)**4 + cos(beta/2)**8 - exp(-I*theta_3)*exp(I*theta_4)*sin(beta/2)**6*cos(beta/2)**2 + 2*exp(-I*theta_3)*exp(I*theta_4)*sin(beta/2)**4*cos(beta/2)**4 - exp(-I*theta_3)*exp(I*theta_4)*sin(beta/2)**2*cos(beta/2)**6 - exp(-I*theta_2)*exp(2*I*theta_3)*exp(-I*theta_4)*sin(beta/2)**6*cos(beta/2)**2 + exp(-I*theta_2)*exp(2*I*theta_3)*exp(-I*theta_4)*sin(beta/2)**4*cos(beta/2)**4 - exp(-I*theta_2)*exp(I*theta_3)*sin(beta/2)**6*cos(beta/2)**2 + 2*exp(-I*theta_2)*exp(I*theta_3)*sin(beta/2)**4*cos(beta/2)**4 - exp(-I*theta_2)*exp(I*theta_3)*sin(beta/2)**2*cos(beta/2)**6 + exp(-I*theta_2)*exp(I*theta_4)*sin(beta/2)**4*cos(beta/2)**4 - exp(-I*theta_2)*exp(I*theta_4)*sin(beta/2)**2*cos(beta/2)**6 + exp(-I*theta_1)*exp(2*I*theta_2)*exp(-I*theta_4)*sin(beta/2)**4*cos(beta/2)**4 - exp(-I*theta_1)*exp(2*I*theta_2)*exp(-I*theta_3)*sin(beta/2)**6*cos(beta/2)**2 + exp(-I*theta_1)*exp(2*I*theta_2)*exp(-I*theta_3)*sin(beta/2)**4*cos(beta/2)**4 - exp(-I*theta_1)*exp(2*I*theta_2)*exp(-2*I*theta_3)*exp(I*theta_4)*sin(beta/2)**6*cos(beta/2)**2 + 2*exp(-I*theta_1)*exp(I*theta_2)*exp(I*theta_3)*exp(-I*theta_4)*sin(beta/2)**4*cos(beta/2)**4 - exp(-I*theta_1)*exp(I*theta_2)*sin(beta/2)**6*cos(beta/2)**2 + 2*exp(-I*theta_1)*exp(I*theta_2)*sin(beta/2)**4*cos(beta/2)**4 - exp(-I*theta_1)*exp(I*theta_2)*sin(beta/2)**2*cos(beta/2)**6 + 2*exp(-I*theta_1)*exp(I*theta_2)*exp(-I*theta_3)*exp(I*theta_4)*sin(beta/2)**4*cos(beta/2)**4 + exp(-I*theta_1)*exp(2*I*theta_3)*exp(-I*theta_4)*sin(beta/2)**4*cos(beta/2)**4 + exp(-I*theta_1)*exp(I*theta_3)*sin(beta/2)**4*cos(beta/2)**4 - exp(-I*theta_1)*exp(I*theta_3)*sin(beta/2)**2*cos(beta/2)**6 - exp(-I*theta_1)*exp(I*theta_4)*sin(beta/2)**2*cos(beta/2)**6"
      ]
     },
     "metadata": {},
     "output_type": "display_data"
    }
   ],
   "source": [
    "import sympy as sp\n",
    "\n",
    "# Define symbols\n",
    "theta_1, theta_2, theta_3, theta_4, beta, C, S = sp.symbols('theta_1 theta_2 theta_3 theta_4 beta C S')\n",
    "\n",
    "# Define rotation matrices\n",
    "def x_rotation(theta):\n",
    "    \"\"\"Returns the Z rotation matrix for angle theta.\"\"\"\n",
    "    return sp.Matrix([[sp.cos(theta / 2), -sp.I * sp.sin(theta / 2)],\n",
    "                       [-sp.I * sp.sin(theta / 2), sp.cos(theta / 2)]])\n",
    "\n",
    "def z_rotation(phi):\n",
    "    \"\"\"Returns the X rotation matrix for angle phi.\"\"\"\n",
    "    return sp.Matrix([[sp.exp(-sp.I * phi / 2), 0],\n",
    "                       [0, sp.exp(sp.I * phi / 2)]])\n",
    "\n",
    "def shifted_x(sigma, phi):\n",
    "    return z_rotation(-phi) @ x_rotation(sigma) @ z_rotation(phi)\n",
    "\n",
    "# Perform the calculation step by step\n",
    "result = shifted_x(beta, theta_1) @ shifted_x(beta, theta_2) @ shifted_x(beta, theta_3) @ shifted_x(beta, theta_4)\n",
    "\n",
    "# Display the result\n",
    "display(sp.simplify(result).expand())\n",
    "display(shifted_x(beta, theta_1))\n",
    "display(sp.simplify(result[0,0] * result[1,1]).expand())"
   ]
  }
 ],
 "metadata": {
  "kernelspec": {
   "display_name": "Python 3",
   "language": "python",
   "name": "python3"
  },
  "language_info": {
   "codemirror_mode": {
    "name": "ipython",
    "version": 3
   },
   "file_extension": ".py",
   "mimetype": "text/x-python",
   "name": "python",
   "nbconvert_exporter": "python",
   "pygments_lexer": "ipython3",
   "version": "3.12.3"
  }
 },
 "nbformat": 4,
 "nbformat_minor": 5
}
